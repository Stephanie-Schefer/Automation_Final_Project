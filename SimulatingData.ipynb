{
 "cells": [
  {
   "cell_type": "markdown",
   "id": "7c8860ed-2761-417f-956f-cc0900b19a0f",
   "metadata": {},
   "source": [
    "# Simulating Sales Data"
   ]
  },
  {
   "cell_type": "markdown",
   "id": "ecaf92b6-4dc2-4b34-896a-c6bd61b906af",
   "metadata": {},
   "source": [
    "### Customer Information Data Set\n",
    "- Customer ID\n",
    "- First Name\n",
    "- Last Name\n",
    "- Age\n",
    "- Gender (Female, Male, Non-Binary, Prefer Not to Say)\n",
    "- Zip Code Location\n",
    "- Custoemr Lifetime Value (CLV)\n",
    "- Customer Segment (Through analysis: high spenders, occasional buyers, loyal customers)\n",
    "- Feedback and Ratings\n",
    "\n",
    "### Sales Transaction Data\n",
    "- Transaction ID\n",
    "- Transaction Date Time\n",
    "- Type (Sale or Refund)\n",
    "- Store ID\n",
    "- Customer ID\n",
    "- Purchase Total Amount\n",
    "- Payment Method (Credit Card, Debit Card, Gift Card, Cash)\n",
    "- Coupon/Promotion Code In Order\n",
    "\n",
    "### Sales Transaction Details\n",
    "- Transaction ID\n",
    "- Product ID\n",
    "- Quantity Purchased\n",
    "- CouponCode\n",
    "\n",
    "### Product Details\n",
    "- Product ID\n",
    "- Product Description\n",
    "- Product Category (electronics, clothing, groceries)\n"
   ]
  },
  {
   "cell_type": "code",
   "execution_count": 101,
   "id": "fdb6f507-02e0-4d85-be3f-0cd8ace9a372",
   "metadata": {},
   "outputs": [],
   "source": [
    "# Imports\n",
    "\n",
    "import re\n",
    "import pandas as pd\n",
    "import numpy as np\n",
    "import uuid\n",
    "import datetime\n",
    "import random"
   ]
  },
  {
   "cell_type": "markdown",
   "id": "1ad00662-ebfe-4ecd-8f6a-e696a67aa740",
   "metadata": {},
   "source": [
    "---\n",
    "# Customer Information"
   ]
  },
  {
   "cell_type": "markdown",
   "id": "6c12bc2f-aa02-4d12-9bd4-91f5dcf9ee60",
   "metadata": {},
   "source": [
    "#### Gender Neutral Names\n",
    "https://www.emmasdiary.co.uk/baby-names/our-top-300-unisex-baby-names\n",
    "#### Last Names\n",
    "https://www.rong-chang.com/namesdict/100_last_names.htm#google_vignette"
   ]
  },
  {
   "cell_type": "code",
   "execution_count": 79,
   "id": "06a42c09-c644-43af-9e3c-d41ec4f27427",
   "metadata": {},
   "outputs": [],
   "source": [
    "# Open the file in read mode\n",
    "with open('Data/GenderNeutralNames.csv','r')as file:\n",
    "    # read the names from the file and remove new line characters\n",
    "    excel_list = [line.strip() for line in file.readlines()]\n",
    "    names = [row.replace('Â\\xa0','').replace(\" \",\"\").split('.')[-1] for row in excel_list if any(char.isdigit() for char in row)]\n",
    "#names"
   ]
  },
  {
   "cell_type": "code",
   "execution_count": 68,
   "id": "67408f3a-777d-4ef9-b649-edcdcbf71875",
   "metadata": {},
   "outputs": [
    {
     "name": "stdout",
     "output_type": "stream",
     "text": [
      "['Smith', 'Johnson', 'Williams', 'Jones', 'Brown', 'Davis', 'Miller', 'Wilson', 'Moore', 'Taylor', 'Anderson', 'Thomas', 'Jackson', 'White', 'Harris', 'Campbell', 'Parker', 'Evans', 'Edwards', 'Collins', 'Stewart', 'Sanchez', 'Morris', 'Rogers', 'Reed', 'Cook', 'Morgan', 'Bell', 'Murphy', 'Bailey', 'Rivera', 'Cooper', 'Richardson', 'Cox', 'Martin', 'Thompson', 'Garcia', 'Martinez', 'Robinson', 'Clark', 'Rodriguez', 'Lewis', 'Lee', 'Walker', 'Hall', 'Allen', 'Young', 'Hernandez', 'King', 'Howard', 'Ward', 'Torres', 'Peterson', 'Gray', 'Ramirez', 'James', 'Watson', 'Brooks', 'Kelly', 'Sanders', 'Price', 'Bennett', 'Wood', 'Barnes', 'Ross', 'Henderson', 'Coleman', 'Jenkins', 'Wright', 'Lopez', 'Hill', 'Scott', 'Green', 'Adams', 'Baker', 'Gonzalez', 'Nelson', 'Carter', 'Mitchell', 'Perez', 'Roberts', 'Turner', 'Phillips', 'Perry', 'Powell', 'Long', 'Patterson', 'Hughes', 'Flores', 'Washington', 'Butler', 'Simmons', 'Foster', 'Gonzales', 'Bryant', 'Alexander', 'Russell', 'Griffin', 'Diaz', 'Hayes']\n"
     ]
    }
   ],
   "source": [
    "# Open the file in read mode\n",
    "with open('Data/LastNames.csv','r')as file:\n",
    "    # read the names from the file and remove new line characters\n",
    "    excel_list = [line.strip() for line in file.readlines()]\n",
    "# Process Names\n",
    "last_names = []\n",
    "for row in excel_list:\n",
    "    # remove unwanted characters (Â\\xa0, extra spaces, and consecutive commas)\n",
    "    cleaned_row = row.replace('Â\\xa0', '').replace(\" \", \"\").replace(',,', '')\n",
    "    \n",
    "    # Extract the text after the last digit\n",
    "    if any(char.isdigit() for char in cleaned_row):\n",
    "        last_digit_idx = max([i for i, char in enumerate(cleaned_row) if char.isdigit()])\n",
    "        extracted_name = cleaned_row[last_digit_idx+1:]\n",
    "        # add the name to the last name list\n",
    "        last_names.append(extracted_name)\n",
    "        \n",
    "print(last_names)"
   ]
  },
  {
   "cell_type": "code",
   "execution_count": 69,
   "id": "853ab53b-7863-4c65-bcbf-9f337762ef9b",
   "metadata": {},
   "outputs": [
    {
     "name": "stderr",
     "output_type": "stream",
     "text": [
      "C:\\Users\\Stephanie\\AppData\\Local\\Temp\\ipykernel_16796\\1273500643.py:3: SettingWithCopyWarning: \n",
      "A value is trying to be set on a copy of a slice from a DataFrame.\n",
      "Try using .loc[row_indexer,col_indexer] = value instead\n",
      "\n",
      "See the caveats in the documentation: https://pandas.pydata.org/pandas-docs/stable/user_guide/indexing.html#returning-a-view-versus-a-copy\n",
      "  continental_zips_df['zip_6'] = continental_zips_df['zip'].apply(lambda x: '{:05}'.format(x)) #astype(str).str.zfill(5)\n"
     ]
    }
   ],
   "source": [
    "zips = pd.read_csv('Data/uszips.csv')\n",
    "continental_zips_df = zips[~zips['state_name'].isin(['Puerto Rico','Virgin Islands'])]\n",
    "continental_zips_df['zip_6'] = continental_zips_df['zip'].apply(lambda x: '{:05}'.format(x)) #astype(str).str.zfill(5)\n",
    "zip_list = list(continental_zips_df.zip_6)\n",
    "#zip_list"
   ]
  },
  {
   "cell_type": "code",
   "execution_count": 83,
   "id": "85230d78-b201-495f-80a6-a352473853b6",
   "metadata": {},
   "outputs": [],
   "source": [
    "# set a random state for consistent results\n",
    "np.random.seed(42)\n",
    "\n",
    "# Assuming 1000 unique customers\n",
    "\n",
    "# Number of records in the dataset\n",
    "num_records = 1000\n",
    "num_cust = 200\n",
    "\n",
    "\n",
    "# Generate data for customer information\n",
    "customer_data = {\n",
    "    'Customer_ID': [str(i).zfill(3) for i in np.arange(1,num_cust+1)], # 200 customers\n",
    "    'First_Name': np.random.choice(names,size=num_cust,replace=True),\n",
    "    'Last_Name': np.random.choice(last_names,size=num_cust,replace=True),\n",
    "    'Age': np.random.randint(18,85, size = num_cust),\n",
    "    'Gender': np.random.choice(['Male','Female','Non-Binary','Prefer Not To Say'],\n",
    "                               size = num_cust,\n",
    "                               replace = True,\n",
    "                               p= [0.45,0.45,0.05,0.05]),\n",
    "    'Location': np.random.choice(zip_list, size=num_cust, replace=True)\n",
    "}\n",
    "## Variables to incorporate later ##\n",
    "# Customer Lifetime Value (CLV)\n",
    "# Customer Segment (Through analysis: high spenders, occasional buyers, loyal customers)\n",
    "# Feedback and Ratings\n",
    "\n",
    "\n",
    "# generate sales data\n"
   ]
  },
  {
   "cell_type": "code",
   "execution_count": 84,
   "id": "40d25f43-f938-4994-89b5-7a49bce7bc37",
   "metadata": {},
   "outputs": [
    {
     "data": {
      "text/html": [
       "<div>\n",
       "<style scoped>\n",
       "    .dataframe tbody tr th:only-of-type {\n",
       "        vertical-align: middle;\n",
       "    }\n",
       "\n",
       "    .dataframe tbody tr th {\n",
       "        vertical-align: top;\n",
       "    }\n",
       "\n",
       "    .dataframe thead th {\n",
       "        text-align: right;\n",
       "    }\n",
       "</style>\n",
       "<table border=\"1\" class=\"dataframe\">\n",
       "  <thead>\n",
       "    <tr style=\"text-align: right;\">\n",
       "      <th></th>\n",
       "      <th>Customer_ID</th>\n",
       "      <th>First_Name</th>\n",
       "      <th>Last_Name</th>\n",
       "      <th>Age</th>\n",
       "      <th>Gender</th>\n",
       "      <th>Location</th>\n",
       "    </tr>\n",
       "  </thead>\n",
       "  <tbody>\n",
       "    <tr>\n",
       "      <th>0</th>\n",
       "      <td>001</td>\n",
       "      <td>Flynn</td>\n",
       "      <td>Kelly</td>\n",
       "      <td>23</td>\n",
       "      <td>Male</td>\n",
       "      <td>07718</td>\n",
       "    </tr>\n",
       "    <tr>\n",
       "      <th>1</th>\n",
       "      <td>002</td>\n",
       "      <td>Terry</td>\n",
       "      <td>Thompson</td>\n",
       "      <td>64</td>\n",
       "      <td>Male</td>\n",
       "      <td>39355</td>\n",
       "    </tr>\n",
       "    <tr>\n",
       "      <th>2</th>\n",
       "      <td>003</td>\n",
       "      <td>Gene</td>\n",
       "      <td>Edwards</td>\n",
       "      <td>72</td>\n",
       "      <td>Female</td>\n",
       "      <td>06850</td>\n",
       "    </tr>\n",
       "  </tbody>\n",
       "</table>\n",
       "</div>"
      ],
      "text/plain": [
       "  Customer_ID First_Name Last_Name  Age  Gender Location\n",
       "0         001      Flynn     Kelly   23    Male    07718\n",
       "1         002      Terry  Thompson   64    Male    39355\n",
       "2         003       Gene   Edwards   72  Female    06850"
      ]
     },
     "execution_count": 84,
     "metadata": {},
     "output_type": "execute_result"
    }
   ],
   "source": [
    "customer_data_df = pd.DataFrame(customer_data)\n",
    "customer_data_df.head(3)"
   ]
  },
  {
   "cell_type": "markdown",
   "id": "ad6ed581-9707-4192-87ee-663e8e71f32d",
   "metadata": {},
   "source": [
    "# Creating Product Data"
   ]
  },
  {
   "cell_type": "code",
   "execution_count": 120,
   "id": "de41861d-d1a1-40df-bd35-25f74e512796",
   "metadata": {},
   "outputs": [],
   "source": [
    "# customer ids\n",
    "customer_ids = customer_data_df.Customer_ID\n",
    "\n",
    "# product details\n",
    "num_products = 100\n",
    "product_ids = [str(i).zfill(3) for i in range(1,num_products+1)]\n",
    "product_categories = ['clothing','shoes','accessories','home','beauty','personal care','office supplies','electronics','groceries']\n",
    "\n",
    "# transaction details\n",
    "num_transactions = 10000\n",
    "transaction_ids = [str(uuid.uuid4()) for _ in range(num_transactions)]\n",
    "\n",
    "# generate random dates within a specific range\n",
    "start_date = datetime.datetime(2022,10,31)\n",
    "end_date = datetime.datetime(2023,10,31)\n",
    "transaction_dates = [start_date+datetime.timedelta(days=random.randint(1,365)) for _ in range(num_transactions)]\n",
    "\n",
    "# generate sales_transaction_data\n",
    "sale_percent = 0.9\n",
    "credit_card = 0.75\n",
    "debit_card = 0.15\n",
    "cash = 0.05\n",
    "gift_card = 0.05 \n",
    "coupon_percent = 0.25\n",
    "sales_transaction_data = {\n",
    "    'TransactionID': transaction_ids,\n",
    "    'TransactionDateTime': transaction_dates,\n",
    "    'Type': [np.random.choice(['sale','refund'], p = [sale_percent, 1-sale_percent]) for _ in range(num_transactions)],\n",
    "    'CustomerID': random.choices(customer_ids, k=num_transactions),\n",
    "    'PurchaseTotalAmount': [round(random.uniform(1,500),2) for _ in range(num_transactions)],\n",
    "    'PaymentMethod': random.choices(['credit card','debit card', 'gift card','cash'],weights=(credit_card,debit_card,gift_card,cash),k=num_transactions),\n",
    "    'CouponUsed': [np.random.choice([True,False], p=(coupon_percent, 1-coupon_percent)) for _ in range(num_transactions)]    \n",
    "}\n",
    "\n",
    "# generate sales_transaction_details in which multiple products can be purchased\n",
    "sales_transaction_details = []\n",
    "no_coupon_percentage = 0.9\n",
    "max_prod_purchased = 10\n",
    "for transaction_id in transaction_ids: \n",
    "    num_products_purchased = random.randint(1, max_prod_purchased)  # Random number of products in each transaction\n",
    "    products_purchased = random.sample(product_ids, num_products_purchased)\n",
    "    quantities = [random.randint(1, 5) for _ in range(num_products_purchased)],\n",
    "    coupon_codes = random.choices([None,'PercentOff','bogo'],weights=(no_coupon_percentage, (1-no_coupon_percentage)/2,(1-no_coupon_percentage)/2), k=num_products_purchased)\n",
    "    for product, quantity,coupon_code in zip(products_purchased, quantities,coupon_codes):\n",
    "        sales_transaction_details.append({\n",
    "            'TransactionID': transaction_id,\n",
    "            'ProductID': product,\n",
    "            'QuantityPurchased': quantity,\n",
    "            'CouponCodeUsed': coupon_code\n",
    "        })\n",
    "\n",
    "# Generate product details\n",
    "product_details = {\n",
    "    'ProductID': product_ids,\n",
    "    'ProductDescription': [f'Product {i}' for i in range(1, num_products + 1)],\n",
    "    'ProductCategory': random.choices(product_categories, k=num_products)\n",
    "}\n"
   ]
  },
  {
   "cell_type": "code",
   "execution_count": 121,
   "id": "f7955340-ce50-4140-b819-c8e0805929fc",
   "metadata": {},
   "outputs": [],
   "source": [
    "sales_transaction_df = pd.DataFrame(sales_transaction_data)\n",
    "sales_transaction_details_df = pd.DataFrame(sales_transaction_details)\n",
    "product_details_df = pd.DataFrame(product_details)"
   ]
  },
  {
   "cell_type": "code",
   "execution_count": 123,
   "id": "baca0a43-06de-4601-94b2-4f790039e4c8",
   "metadata": {},
   "outputs": [
    {
     "data": {
      "text/html": [
       "<div>\n",
       "<style scoped>\n",
       "    .dataframe tbody tr th:only-of-type {\n",
       "        vertical-align: middle;\n",
       "    }\n",
       "\n",
       "    .dataframe tbody tr th {\n",
       "        vertical-align: top;\n",
       "    }\n",
       "\n",
       "    .dataframe thead th {\n",
       "        text-align: right;\n",
       "    }\n",
       "</style>\n",
       "<table border=\"1\" class=\"dataframe\">\n",
       "  <thead>\n",
       "    <tr style=\"text-align: right;\">\n",
       "      <th></th>\n",
       "      <th>TransactionID</th>\n",
       "      <th>TransactionDateTime</th>\n",
       "      <th>Type</th>\n",
       "      <th>CustomerID</th>\n",
       "      <th>PurchaseTotalAmount</th>\n",
       "      <th>PaymentMethod</th>\n",
       "      <th>CouponUsed</th>\n",
       "    </tr>\n",
       "  </thead>\n",
       "  <tbody>\n",
       "    <tr>\n",
       "      <th>0</th>\n",
       "      <td>4b683b9a-9bcb-40c5-bfcd-00f5bca218f6</td>\n",
       "      <td>2023-01-05</td>\n",
       "      <td>sale</td>\n",
       "      <td>028</td>\n",
       "      <td>59.66</td>\n",
       "      <td>cash</td>\n",
       "      <td>False</td>\n",
       "    </tr>\n",
       "    <tr>\n",
       "      <th>1</th>\n",
       "      <td>546003b3-e7b6-4299-a20c-3bda19d54680</td>\n",
       "      <td>2023-05-30</td>\n",
       "      <td>sale</td>\n",
       "      <td>032</td>\n",
       "      <td>343.52</td>\n",
       "      <td>debit card</td>\n",
       "      <td>False</td>\n",
       "    </tr>\n",
       "    <tr>\n",
       "      <th>2</th>\n",
       "      <td>502dc22f-bc5c-4c13-b09f-57c0ca788b03</td>\n",
       "      <td>2022-12-19</td>\n",
       "      <td>sale</td>\n",
       "      <td>080</td>\n",
       "      <td>260.01</td>\n",
       "      <td>credit card</td>\n",
       "      <td>False</td>\n",
       "    </tr>\n",
       "  </tbody>\n",
       "</table>\n",
       "</div>"
      ],
      "text/plain": [
       "                          TransactionID TransactionDateTime  Type CustomerID  \\\n",
       "0  4b683b9a-9bcb-40c5-bfcd-00f5bca218f6          2023-01-05  sale        028   \n",
       "1  546003b3-e7b6-4299-a20c-3bda19d54680          2023-05-30  sale        032   \n",
       "2  502dc22f-bc5c-4c13-b09f-57c0ca788b03          2022-12-19  sale        080   \n",
       "\n",
       "   PurchaseTotalAmount PaymentMethod  CouponUsed  \n",
       "0                59.66          cash       False  \n",
       "1               343.52    debit card       False  \n",
       "2               260.01   credit card       False  "
      ]
     },
     "execution_count": 123,
     "metadata": {},
     "output_type": "execute_result"
    }
   ],
   "source": [
    "sales_transaction_df.head(3)"
   ]
  },
  {
   "cell_type": "code",
   "execution_count": 124,
   "id": "145d9161-d777-415a-a78a-c52a137048c9",
   "metadata": {},
   "outputs": [
    {
     "data": {
      "text/html": [
       "<div>\n",
       "<style scoped>\n",
       "    .dataframe tbody tr th:only-of-type {\n",
       "        vertical-align: middle;\n",
       "    }\n",
       "\n",
       "    .dataframe tbody tr th {\n",
       "        vertical-align: top;\n",
       "    }\n",
       "\n",
       "    .dataframe thead th {\n",
       "        text-align: right;\n",
       "    }\n",
       "</style>\n",
       "<table border=\"1\" class=\"dataframe\">\n",
       "  <thead>\n",
       "    <tr style=\"text-align: right;\">\n",
       "      <th></th>\n",
       "      <th>TransactionID</th>\n",
       "      <th>ProductID</th>\n",
       "      <th>QuantityPurchased</th>\n",
       "      <th>CouponCodeUsed</th>\n",
       "    </tr>\n",
       "  </thead>\n",
       "  <tbody>\n",
       "    <tr>\n",
       "      <th>0</th>\n",
       "      <td>4b683b9a-9bcb-40c5-bfcd-00f5bca218f6</td>\n",
       "      <td>023</td>\n",
       "      <td>[5, 4, 3, 5, 3, 4, 4, 2, 1]</td>\n",
       "      <td>None</td>\n",
       "    </tr>\n",
       "    <tr>\n",
       "      <th>1</th>\n",
       "      <td>546003b3-e7b6-4299-a20c-3bda19d54680</td>\n",
       "      <td>016</td>\n",
       "      <td>[4]</td>\n",
       "      <td>None</td>\n",
       "    </tr>\n",
       "    <tr>\n",
       "      <th>2</th>\n",
       "      <td>502dc22f-bc5c-4c13-b09f-57c0ca788b03</td>\n",
       "      <td>057</td>\n",
       "      <td>[4, 3, 1, 5, 3]</td>\n",
       "      <td>None</td>\n",
       "    </tr>\n",
       "  </tbody>\n",
       "</table>\n",
       "</div>"
      ],
      "text/plain": [
       "                          TransactionID ProductID  \\\n",
       "0  4b683b9a-9bcb-40c5-bfcd-00f5bca218f6       023   \n",
       "1  546003b3-e7b6-4299-a20c-3bda19d54680       016   \n",
       "2  502dc22f-bc5c-4c13-b09f-57c0ca788b03       057   \n",
       "\n",
       "             QuantityPurchased CouponCodeUsed  \n",
       "0  [5, 4, 3, 5, 3, 4, 4, 2, 1]           None  \n",
       "1                          [4]           None  \n",
       "2              [4, 3, 1, 5, 3]           None  "
      ]
     },
     "execution_count": 124,
     "metadata": {},
     "output_type": "execute_result"
    }
   ],
   "source": [
    "sales_transaction_details_df.head(3)"
   ]
  },
  {
   "cell_type": "code",
   "execution_count": null,
   "id": "9545420d-6d2d-4951-b51e-8e6e330d9cb3",
   "metadata": {},
   "outputs": [],
   "source": []
  }
 ],
 "metadata": {
  "kernelspec": {
   "display_name": "Python 3 (ipykernel)",
   "language": "python",
   "name": "python3"
  },
  "language_info": {
   "codemirror_mode": {
    "name": "ipython",
    "version": 3
   },
   "file_extension": ".py",
   "mimetype": "text/x-python",
   "name": "python",
   "nbconvert_exporter": "python",
   "pygments_lexer": "ipython3",
   "version": "3.9.7"
  }
 },
 "nbformat": 4,
 "nbformat_minor": 5
}
