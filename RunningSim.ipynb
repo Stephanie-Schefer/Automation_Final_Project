{
 "cells": [
  {
   "cell_type": "markdown",
   "id": "489a5a30",
   "metadata": {},
   "source": [
    "## Imports\n",
    "\n",
    "### Read in Simulator.py file"
   ]
  },
  {
   "cell_type": "code",
   "execution_count": 40,
   "id": "223d0552",
   "metadata": {},
   "outputs": [],
   "source": [
    "import Simulator\n",
    "from importlib import reload\n",
    "reload(Simulator)\n",
    "from Simulator import DataImporter, GenCustProd, SalesGenerator"
   ]
  },
  {
   "cell_type": "markdown",
   "id": "cbe150d9",
   "metadata": {},
   "source": [
    "# Data Setup\n",
    "- The following .csv files must be placed within a folder 'Data' within the current working directory \n",
    "    - GenderNeutralNames.csv\n",
    "    - LastNames.csv\n",
    "    - uszips.csv\n",
    "- Run the bellow cells to view the possible options of Names (First and Last) and zip codes that comprise the customers table that will be generated shortly during the simulation."
   ]
  },
  {
   "cell_type": "code",
   "execution_count": 41,
   "id": "fdad342b",
   "metadata": {},
   "outputs": [],
   "source": [
    "data_importer = DataImporter()\n",
    "#data_importer.import_first() # file_name=\"file.csv\""
   ]
  },
  {
   "cell_type": "code",
   "execution_count": 42,
   "id": "dd59eff5-0c5d-49b4-a8c2-65c9f5d90c98",
   "metadata": {},
   "outputs": [
    {
     "data": {
      "text/plain": [
       "['Addison',\n",
       " 'Adrian',\n",
       " 'Aiden',\n",
       " 'Ainsley',\n",
       " 'Alex',\n",
       " 'Alfie',\n",
       " 'Ali',\n",
       " 'Amory',\n",
       " 'Andie',\n",
       " 'Andy']"
      ]
     },
     "execution_count": 42,
     "metadata": {},
     "output_type": "execute_result"
    }
   ],
   "source": [
    "first_names = data_importer.first\n",
    "first_names[0:10]"
   ]
  },
  {
   "cell_type": "code",
   "execution_count": 43,
   "id": "a4a8a689",
   "metadata": {},
   "outputs": [
    {
     "data": {
      "text/plain": [
       "['Smith',\n",
       " 'Johnson',\n",
       " 'Williams',\n",
       " 'Jones',\n",
       " 'Brown',\n",
       " 'Davis',\n",
       " 'Miller',\n",
       " 'Wilson',\n",
       " 'Moore',\n",
       " 'Taylor']"
      ]
     },
     "execution_count": 43,
     "metadata": {},
     "output_type": "execute_result"
    }
   ],
   "source": [
    "last_names = data_importer.last\n",
    "last_names[0:10]"
   ]
  },
  {
   "cell_type": "code",
   "execution_count": 44,
   "id": "f64068d9",
   "metadata": {},
   "outputs": [
    {
     "data": {
      "text/plain": [
       "['01001',\n",
       " '01002',\n",
       " '01003',\n",
       " '01005',\n",
       " '01007',\n",
       " '01008',\n",
       " '01009',\n",
       " '01010',\n",
       " '01011',\n",
       " '01012']"
      ]
     },
     "execution_count": 44,
     "metadata": {},
     "output_type": "execute_result"
    }
   ],
   "source": [
    "zips = data_importer.zip\n",
    "zips[0:10]"
   ]
  },
  {
   "cell_type": "markdown",
   "id": "8eb05bb3",
   "metadata": {},
   "source": [
    "# GenCustProd\n",
    "- This class generates Customers and Products\n",
    "- This process is automatically run in the following SalesGenerator function, but it allows you to change the default parameters if you so choose for the purpose of the simulation.\n",
    "    ### Variables\n",
    "    - **num_cust** \n",
    "        - an integer\n",
    "        - how many customers does the store have\n",
    "        - this includes anyone who made a sale in the history of the store\n",
    "    - **num_prod**\n",
    "        - an integer\n",
    "        - how many distinct items/products are sold in the store\n",
    "    - **categories**\n",
    "        - a list of strings\n",
    "        - contains different product types or groupings\n",
    "    - **means**\n",
    "        - a list of integers\n",
    "        - corresponds to the average sales price for each category listed in 'categories' variable\n",
    "        - The means list is aligned with the categories list in the same order\n",
    "    - **st_dev**\n",
    "        - a list of percentages as decimals\n",
    "        - corresponds to the standard deviation of sales prices for each category listed in 'categories' variable\n",
    "        - The st_dev list is aligned with the categories list in the same order\n",
    "    - **sale_pct**\n",
    "        - a percentage as a decimal\n",
    "        - This variable denotes the percentage of products available for sale. \n",
    "        - In this case, it is set to 0.2, meaning that 20% of the total available products will be put on sale.\n",
    "    - **display_pct**\n",
    "        - a percentage as a decimal\n",
    "        - This variable represents the percentage of products to be displayed.\n",
    "        - With a value of 0.1, it indicates that 10% of the total available products will be displayed for customers to view or purchase.\n",
    "        - This is the percentage of products that are on end caps, in the checkout isle, or highlighted throughout a display.\n",
    "    - **random_seed**\n",
    "        - an integer\n",
    "        - This is the seed value used to initialize the random number generator. \n",
    "        - It ensures reproducibility of random processes or simulations by seeding the random number generator with a specific value (in this case, 42).\n",
    "        - When the same seed is used, it generates the same sequence of random numbers, aiding in result reproducibility.\n",
    "        \n",
    "## Use the below line to generate a new customer product group"
   ]
  },
  {
   "cell_type": "code",
   "execution_count": 45,
   "id": "f253401c",
   "metadata": {},
   "outputs": [
    {
     "name": "stdout",
     "output_type": "stream",
     "text": [
      "Data saved to Data\\customers.csv\n",
      "Data saved to Data\\products.csv\n"
     ]
    },
    {
     "data": {
      "image/png": "[encoded data removed]",
      "text/plain": [
       "<Figure size 576x432 with 1 Axes>"
      ]
     },
     "metadata": {
      "needs_background": "light"
     },
     "output_type": "display_data"
    }
   ],
   "source": [
    "cust_prod = GenCustProd(num_cust = 100,\n",
    "                        num_prod = 100,\n",
    "                        categories = ['Clothing', 'Shoes','Accessories','Home','Beauty','Personal Care','Office Supplies','Electronics','Groceries'], \n",
    "                        means = [30,40,25,60,20,10,10,150,5],\n",
    "                        st_dev = [10,10,20,30,10,5,5,40,2],\n",
    "                        sale_pct = .2,\n",
    "                        display_pct = .1,\n",
    "                        random_seed = 42,\n",
    "                       data_importer = data_importer)"
   ]
  },
  {
   "cell_type": "markdown",
   "id": "9330e2bd",
   "metadata": {},
   "source": [
    "# SalesGenerator\n",
    "- This class is designed to simulate and generate sales transactions over a specified number of periods, typically days, for a given set of customers and products.\n",
    "\n",
    "### Initialization:\n",
    "\n",
    "- **Variables Initialization:** \n",
    "    - It initializes various variables including the number of periods, start date, and simulation-related flags.\n",
    "- **Custom Product Instance:**\n",
    "    - It allows for the instantiation of a custom product instance or uses a default one (GenCustProd) if none is provided.\n",
    "- **Simulation Number:**\n",
    "    - It identifies the next simulation number based on previous saved simulation files.\n",
    "- **Data Storage Setup:**\n",
    "    - It initializes variables to store sales transaction data.\n",
    "\n",
    "### Helper Functions:\n",
    "- **Extract Number from String:**\n",
    "    - It extracts numeric values from strings using regular expressions, specifically designed to retrieve simulation numbers from filenames.\n",
    "\n",
    "### File Handling:\n",
    "- **Get Most Recent Simulation Number:** \n",
    "    - It scans the 'Data' directory to identify the most recent simulation number from saved files.\n",
    "- **Save Output with Simulation Number:**\n",
    "    - It saves transactions and transaction details to CSV files with filenames indicating the simulation number and the count of transactions.\n",
    "\n",
    "### Sales Generation:\n",
    "- **Generate Sales Data:**\n",
    "    - It simulates sales transactions over the specified number of periods (typically days).\n",
    "- **Sales Simulation Loop:**\n",
    "    - It iterates through each day and simulates sales transactions based on various factors:\n",
    "- **Base Sales Simulation:** \n",
    "    - Generating a base sales count with random noise and economic condition fluctuations.\n",
    "- **Customer Purchase Simulation:** \n",
    "    - Simulating customer purchases based on spending habits, available products, sales, and display probabilities.\n",
    "- **Transaction Recording:** \n",
    "    - Recording transactions with transaction IDs, customer IDs, purchase times, and total prices.\n",
    "- **Transaction Detail Recording:** \n",
    "    - Recording details of purchased products within each transaction.\n",
    "- **Periodic Saving:** \n",
    "    - Saving intermediate transaction data in temporary files when a certain threshold of transactions is reached.\n",
    "\n",
    "### Finalization:\n",
    "- **Data Saving:** \n",
    "    - Saving the final sales transaction data into CSV files for both transactions and transaction details.\n"
   ]
  },
  {
   "cell_type": "markdown",
   "id": "2c01ccd2",
   "metadata": {},
   "source": [
    "# Generate Sales with defualt cust_prod settings\n",
    "- for testing it is ideal to keep num_periods small to avoid long running times\n",
    "- cust_prod should be none if you are using default cust_prod settings"
   ]
  },
  {
   "cell_type": "code",
   "execution_count": 46,
   "id": "81582b63",
   "metadata": {},
   "outputs": [
    {
     "name": "stderr",
     "output_type": "stream",
     "text": [
      "C:\\Users\\Stephanie\\Documents\\School\\8_Fall_2023\\2_Automation_Workflows\\Automation_Final_Project\\Simulator.py:59: SettingWithCopyWarning: \n",
      "A value is trying to be set on a copy of a slice from a DataFrame.\n",
      "Try using .loc[row_indexer,col_indexer] = value instead\n",
      "\n",
      "See the caveats in the documentation: https://pandas.pydata.org/pandas-docs/stable/user_guide/indexing.html#returning-a-view-versus-a-copy\n",
      "  continental_zips_df['zip_6'] = continental_zips_df['zip'].apply(lambda x: '{:05}'.format(x)) #astype(str).str.zfill(5)\n"
     ]
    },
    {
     "name": "stdout",
     "output_type": "stream",
     "text": [
      "Data saved to Data\\customers.csv\n",
      "Data saved to Data\\products.csv\n"
     ]
    },
    {
     "data": {
      "image/png": "[encoded data removed]",
      "text/plain": [
       "<Figure size 576x432 with 1 Axes>"
      ]
     },
     "metadata": {
      "needs_background": "light"
     },
     "output_type": "display_data"
    },
    {
     "name": "stdout",
     "output_type": "stream",
     "text": [
      "2022-01-01 00:00:00\n",
      "2022-01-02 00:00:00\n",
      "2022-01-03 00:00:00\n",
      "2022-01-04 00:00:00\n",
      "2022-01-05 00:00:00\n",
      "Data saved to Data\\Simulations\\transactions_s3_494.csv\n",
      "Data saved to Data\\Simulations\\transactions_details_s3_4371.csv\n",
      "saved files\n"
     ]
    },
    {
     "data": {
      "text/plain": [
       "<Simulator.SalesGenerator at 0x13e54ba5640>"
      ]
     },
     "execution_count": 46,
     "metadata": {},
     "output_type": "execute_result"
    }
   ],
   "source": [
    "SalesGenerator(num_periods = 5,\n",
    "                start_year=2022,\n",
    "                start_month = 1,\n",
    "                start_day = 1,\n",
    "                del_previous_sims = False,\n",
    "                cust_prod = None)"
   ]
  },
  {
   "cell_type": "markdown",
   "id": "83a11eda",
   "metadata": {},
   "source": [
    "# Generate sales with a modified customer product instance\n",
    "- based on cust_prod created above"
   ]
  },
  {
   "cell_type": "code",
   "execution_count": 47,
   "id": "5badd0a0",
   "metadata": {},
   "outputs": [
    {
     "name": "stdout",
     "output_type": "stream",
     "text": [
      "2022-01-01 00:00:00\n",
      "2022-01-02 00:00:00\n",
      "Data saved to Data\\Simulations\\transactions_s4_212.csv\n",
      "Data saved to Data\\Simulations\\transactions_details_s4_1690.csv\n",
      "saved files\n"
     ]
    },
    {
     "data": {
      "text/plain": [
       "<Simulator.SalesGenerator at 0x13e54ba5940>"
      ]
     },
     "execution_count": 47,
     "metadata": {},
     "output_type": "execute_result"
    }
   ],
   "source": [
    "SalesGenerator(num_periods = 2,\n",
    "                start_year=2022,\n",
    "                start_month = 1,\n",
    "                start_day = 1,\n",
    "                del_previous_sims = False, # True, False, [#,#,#]\n",
    "                cust_prod = cust_prod)"
   ]
  },
  {
   "cell_type": "markdown",
   "id": "2648b117-1eb1-4c9c-b082-79326abc8cde",
   "metadata": {},
   "source": [
    "## Now the files are saved in the simulation folder"
   ]
  },
  {
   "cell_type": "code",
   "execution_count": null,
   "id": "e7836734-d7e6-4a5d-8fec-5e4b464240a8",
   "metadata": {},
   "outputs": [],
   "source": []
  }
 ],
 "metadata": {
  "kernelspec": {
   "display_name": "Python 3 (ipykernel)",
   "language": "python",
   "name": "python3"
  },
  "language_info": {
   "codemirror_mode": {
    "name": "ipython",
    "version": 3
   },
   "file_extension": ".py",
   "mimetype": "text/x-python",
   "name": "python",
   "nbconvert_exporter": "python",
   "pygments_lexer": "ipython3",
   "version": "3.9.7"
  }
 },
 "nbformat": 4,
 "nbformat_minor": 5
}
